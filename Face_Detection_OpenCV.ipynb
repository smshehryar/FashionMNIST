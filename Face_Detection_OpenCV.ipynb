{
 "cells": [
  {
   "cell_type": "markdown",
   "metadata": {},
   "source": [
    "## OpenCV Face Detection"
   ]
  },
  {
   "cell_type": "code",
   "execution_count": 85,
   "metadata": {},
   "outputs": [
    {
     "name": "stdout",
     "output_type": "stream",
     "text": [
      "<class 'numpy.ndarray'>\n",
      "(456, 644, 3)\n",
      "Faces:  2\n"
     ]
    },
    {
     "data": {
      "text/plain": [
       "<Figure size 432x288 with 1 Axes>"
      ]
     },
     "metadata": {
      "needs_background": "light"
     },
     "output_type": "display_data"
    }
   ],
   "source": [
    "import numpy as np\n",
    "import matplotlib.pyplot as plt\n",
    "import cv2\n",
    "%matplotlib inline \n",
    "\n",
    "\n",
    "\n",
    "image_1 = cv2.imread(\"image2.jpg\");\n",
    "\n",
    "print(type(image_1));\n",
    "\n",
    "print(image_1.shape);\n",
    "image_1_copy = image_1.copy();\n",
    "image_1 = cv2.cvtColor(image_1, cv2.COLOR_BGR2GRAY);\n",
    "\n",
    "#plt.imshow(image_1, cmap='gray');\n",
    "\n",
    "haar_cascade = cv2.CascadeClassifier(\"haarcascades/haarcascade_eye.xml\");\n",
    "\n",
    "face_rects = haar_cascade.detectMultiScale(image_1, scaleFactor = 1.2, minNeighbors = 10);\n",
    "\n",
    "print('Eyes: ', len(face_rects));\n",
    "\n",
    "for (x,y,w,h) in face_rects:\n",
    "    \n",
    "    cv2.rectangle(image_1_copy,(x,y), (x+w,y+h), (255,255,255), 3);\n",
    "\n",
    "image_1_copy = cv2.cvtColor(image_1_copy, cv2.COLOR_BGR2RGB);   \n",
    "\n",
    "plt.imshow(image_1_copy);"
   ]
  },
  {
   "cell_type": "code",
   "execution_count": null,
   "metadata": {},
   "outputs": [],
   "source": []
  },
  {
   "cell_type": "code",
   "execution_count": null,
   "metadata": {},
   "outputs": [],
   "source": []
  }
 ],
 "metadata": {
  "kernelspec": {
   "display_name": "Python 3",
   "language": "python",
   "name": "python3"
  },
  "language_info": {
   "codemirror_mode": {
    "name": "ipython",
    "version": 3
   },
   "file_extension": ".py",
   "mimetype": "text/x-python",
   "name": "python",
   "nbconvert_exporter": "python",
   "pygments_lexer": "ipython3",
   "version": "3.7.3"
  }
 },
 "nbformat": 4,
 "nbformat_minor": 2
}
